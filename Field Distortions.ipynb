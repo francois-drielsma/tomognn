{
 "cells": [
  {
   "cell_type": "markdown",
   "metadata": {},
   "source": [
    "# Field distortions\n",
    "\n",
    "Introduce field distortions into a voxel set\n",
    "\n",
    "Start with a simple model where E(x) = (1-x/dx)*E_0 + (x/dx)*E_1 (field gradually changes from E_0 at the anode to E_1 at the cathode. In this situation, there is no (y,z) offsets but a progressive x offset because the drift time reads:\n",
    "\n",
    "dt(x) = 2x/(A*(sqrt(E_0)+sqrt(E(x))\n",
    "- A = 0.00696 cm/us/sqrt(V/cm), the constant which relates E field to the drift velocity\n",
    "\n",
    "Which means that the x position is distorted by a factor\n",
    "\n",
    "dt(x)/dt_0 = 2/(1+sqrt(E(x)/E_0))"
   ]
  },
  {
   "cell_type": "code",
   "execution_count": 2,
   "metadata": {},
   "outputs": [
    {
     "ename": "NameError",
     "evalue": "name 'get_through_line' is not defined",
     "output_type": "error",
     "traceback": [
      "\u001b[0;31m---------------------------------------------------------------------------\u001b[0m",
      "\u001b[0;31mNameError\u001b[0m                                 Traceback (most recent call last)",
      "\u001b[0;32m<ipython-input-2-30deebf60a65>\u001b[0m in \u001b[0;36m<module>\u001b[0;34m\u001b[0m\n\u001b[1;32m      1\u001b[0m \u001b[0mbox_size\u001b[0m \u001b[0;34m=\u001b[0m \u001b[0;36m1.\u001b[0m\u001b[0;34m\u001b[0m\u001b[0;34m\u001b[0m\u001b[0m\n\u001b[1;32m      2\u001b[0m \u001b[0mbins\u001b[0m \u001b[0;34m=\u001b[0m \u001b[0;36m100\u001b[0m\u001b[0;34m\u001b[0m\u001b[0;34m\u001b[0m\u001b[0m\n\u001b[0;32m----> 3\u001b[0;31m \u001b[0mend_points\u001b[0m \u001b[0;34m=\u001b[0m \u001b[0mget_through_line\u001b[0m\u001b[0;34m(\u001b[0m\u001b[0mbox_size\u001b[0m\u001b[0;34m,\u001b[0m \u001b[0mstart_axis\u001b[0m\u001b[0;34m=\u001b[0m\u001b[0;36m0\u001b[0m\u001b[0;34m,\u001b[0m \u001b[0mstart_side\u001b[0m\u001b[0;34m=\u001b[0m\u001b[0;36m0\u001b[0m\u001b[0;34m)\u001b[0m \u001b[0;31m# Make sure track goes through anode\u001b[0m\u001b[0;34m\u001b[0m\u001b[0;34m\u001b[0m\u001b[0m\n\u001b[0m\u001b[1;32m      4\u001b[0m \u001b[0mvoxels\u001b[0m \u001b[0;34m=\u001b[0m \u001b[0mvoxelize_track\u001b[0m\u001b[0;34m(\u001b[0m\u001b[0mend_points\u001b[0m\u001b[0;34m,\u001b[0m \u001b[0mbox_size\u001b[0m\u001b[0;34m,\u001b[0m \u001b[0mbins\u001b[0m\u001b[0;34m)\u001b[0m\u001b[0;34m\u001b[0m\u001b[0;34m\u001b[0m\u001b[0m\n\u001b[1;32m      5\u001b[0m \u001b[0mdraw_tensor\u001b[0m\u001b[0;34m(\u001b[0m\u001b[0mvoxels\u001b[0m\u001b[0;34m,\u001b[0m \u001b[0mbins\u001b[0m\u001b[0;34m,\u001b[0m \u001b[0mbox_size\u001b[0m\u001b[0;34m)\u001b[0m\u001b[0;34m\u001b[0m\u001b[0;34m\u001b[0m\u001b[0m\n",
      "\u001b[0;31mNameError\u001b[0m: name 'get_through_line' is not defined"
     ]
    }
   ],
   "source": [
    "box_size = 1.\n",
    "bins = 100\n",
    "end_points = get_through_line(box_size, start_axis=0, start_side=0) # Make sure track goes through anode\n",
    "voxels = voxelize_track(end_points, box_size, bins)\n",
    "draw_tensor(voxels, bins, box_size)"
   ]
  },
  {
   "cell_type": "code",
   "execution_count": null,
   "metadata": {},
   "outputs": [],
   "source": [
    "from copy import deepcopy\n",
    "voxels_dist = deepcopy(voxels)\n",
    "E0, E1 = 1., 1.1\n",
    "rel_fields = (1.-voxels[:,0]*box_size/bins) + voxels[:,0]*E1/E0/bins\n",
    "print(rel_fields)\n",
    "factors = 2/(1+np.sqrt(rel_fields))\n",
    "print(factors)\n",
    "voxels_dist[:,0] *= factors\n",
    "draw_tensor(voxels_dist, bins, 1)"
   ]
  }
 ],
 "metadata": {
  "kernelspec": {
   "display_name": "Python 3",
   "language": "python",
   "name": "python3"
  },
  "language_info": {
   "codemirror_mode": {
    "name": "ipython",
    "version": 3
   },
   "file_extension": ".py",
   "mimetype": "text/x-python",
   "name": "python",
   "nbconvert_exporter": "python",
   "pygments_lexer": "ipython3",
   "version": "3.6.9"
  }
 },
 "nbformat": 4,
 "nbformat_minor": 2
}
